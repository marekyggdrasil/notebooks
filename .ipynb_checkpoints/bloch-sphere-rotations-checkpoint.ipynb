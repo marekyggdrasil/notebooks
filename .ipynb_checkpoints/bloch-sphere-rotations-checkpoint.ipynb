{
 "cells": [
  {
   "cell_type": "code",
   "execution_count": 19,
   "metadata": {},
   "outputs": [],
   "source": [
    "from sympy import *\n",
    "init_printing(use_unicode=True, use_latex=True)"
   ]
  },
  {
   "cell_type": "markdown",
   "metadata": {},
   "source": [
    "# Unitary rotation operators around the Bloch Sphere\n",
    "\n",
    "## Introduction\n",
    "\n",
    "In this document we are going to automatically derive the unitary operators representing the rotations arount the Bloch Sphere. This will be done under assumption Hamiltonian operator is time-independent. We will do it for the three Pauli operators $\\sigma^x$, $\\sigma^y$ and $\\sigma^z$.\n",
    "\n",
    "## Deriving the unitary operator\n",
    "\n",
    "Hamiltonian operator $H$ is a representation of acting on a quantum state $\\left| \\psi(t) \\right>$ in a Schrödinger picture, where operators are constant and quantum states depend on time. On the other hand, in Heisenberg picture, a unitary operator $U(t)$ is an semantically equivalent representation in which the the operator is time-dependent and quantum state $\\left| \\psi \\right>$ is static.\n",
    "\n",
    "Let us define a function which symbolically derives the $U(t)$ from $H$ using\n",
    "\n",
    "\\begin{equation}\n",
    "U(t) = e^{-\\frac{i t}{2}H}\n",
    "\\end{equation}\n",
    "\n",
    "under assumption that $\\frac{d}{dt}H=0$ or simply, $H$ does not depend on time."
   ]
  },
  {
   "cell_type": "code",
   "execution_count": 22,
   "metadata": {},
   "outputs": [],
   "source": [
    "def timeIndependentHtoU(H, t) :\n",
    "    rows, columns = H.shape\n",
    "    U = zeros(rows, columns)\n",
    "    eigenvects = H.eigenvects()\n",
    "    for eigenvalue, multiplicity, eigenvectors in eigenvects :\n",
    "        l = eigenvalue\n",
    "        m = multiplicity\n",
    "        for eigenvector in eigenvectors :\n",
    "            normalized_eigenvector = eigenvector.normalized()\n",
    "            entry = exp(-I*t*l*m/2)*normalized_eigenvector*conjugate(normalized_eigenvector.T)\n",
    "            U += entry\n",
    "    return U"
   ]
  },
  {
   "cell_type": "markdown",
   "metadata": {},
   "source": [
    "## Defining the Pauli operators\n",
    "\n",
    "Operators matrices are defined as\n",
    "\n",
    "\\begin{align}\n",
    "\\sigma^x = \\begin{bmatrix}0 & 1\\\\1 & 0\\end{bmatrix},\n",
    "\\sigma^y = \\begin{bmatrix}0 & -i\\\\i & 0\\end{bmatrix},\n",
    "\\sigma^z = \\begin{bmatrix}1 & 0\\\\0 & -1\\end{bmatrix}\n",
    "\\end{align}\n",
    "\n",
    "Let us define them as `SymPy` matrices and derive the rotation operators $R_x(t)$, $R_y(t)$ and $R_z(t)$ correponsing to $\\sigma^x$, $\\sigma^y$ and $\\sigma^z$ (respectively)."
   ]
  },
  {
   "cell_type": "code",
   "execution_count": 23,
   "metadata": {},
   "outputs": [
    {
     "data": {
      "image/png": "[encoded data removed]",
      "text/latex": [
       "$\\displaystyle \\left[\\begin{matrix}\\cos{\\left(\\frac{t}{2} \\right)} & - i \\sin{\\left(\\frac{t}{2} \\right)}\\\\- i \\sin{\\left(\\frac{t}{2} \\right)} & \\cos{\\left(\\frac{t}{2} \\right)}\\end{matrix}\\right]$"
      ],
      "text/plain": [
       "⎡    ⎛t⎞          ⎛t⎞⎤\n",
       "⎢ cos⎜─⎟    -ⅈ⋅sin⎜─⎟⎥\n",
       "⎢    ⎝2⎠          ⎝2⎠⎥\n",
       "⎢                    ⎥\n",
       "⎢      ⎛t⎞      ⎛t⎞  ⎥\n",
       "⎢-ⅈ⋅sin⎜─⎟   cos⎜─⎟  ⎥\n",
       "⎣      ⎝2⎠      ⎝2⎠  ⎦"
      ]
     },
     "metadata": {},
     "output_type": "display_data"
    },
    {
     "data": {
      "image/png": "[encoded data removed]",
      "text/latex": [
       "$\\displaystyle \\left[\\begin{matrix}\\cos{\\left(\\frac{t}{2} \\right)} & - \\sin{\\left(\\frac{t}{2} \\right)}\\\\\\sin{\\left(\\frac{t}{2} \\right)} & \\cos{\\left(\\frac{t}{2} \\right)}\\end{matrix}\\right]$"
      ],
      "text/plain": [
       "⎡   ⎛t⎞      ⎛t⎞⎤\n",
       "⎢cos⎜─⎟  -sin⎜─⎟⎥\n",
       "⎢   ⎝2⎠      ⎝2⎠⎥\n",
       "⎢               ⎥\n",
       "⎢   ⎛t⎞     ⎛t⎞ ⎥\n",
       "⎢sin⎜─⎟  cos⎜─⎟ ⎥\n",
       "⎣   ⎝2⎠     ⎝2⎠ ⎦"
      ]
     },
     "metadata": {},
     "output_type": "display_data"
    },
    {
     "data": {
      "image/png": "[encoded data removed]",
      "text/latex": [
       "$\\displaystyle \\left[\\begin{matrix}e^{- \\frac{i t}{2}} & 0\\\\0 & e^{\\frac{i t}{2}}\\end{matrix}\\right]$"
      ],
      "text/plain": [
       "⎡ -ⅈ⋅t       ⎤\n",
       "⎢ ─────      ⎥\n",
       "⎢   2        ⎥\n",
       "⎢ℯ        0  ⎥\n",
       "⎢            ⎥\n",
       "⎢         ⅈ⋅t⎥\n",
       "⎢         ───⎥\n",
       "⎢          2 ⎥\n",
       "⎣  0     ℯ   ⎦"
      ]
     },
     "metadata": {},
     "output_type": "display_data"
    }
   ],
   "source": [
    "t = Symbol('t')\n",
    "\n",
    "s_x = Matrix([[0, 1], [1, 0]])\n",
    "s_y = Matrix([[0, -I], [I, 0]])\n",
    "s_z = Matrix([[1, 0], [0, -1]])\n",
    "\n",
    "r_x = timeIndependentHtoU(s_x, t)\n",
    "r_y = timeIndependentHtoU(s_y, t)\n",
    "r_z = timeIndependentHtoU(s_z, t)\n",
    "\n",
    "display(simplify(r_x), simplify(r_y), simplify(r_z))"
   ]
  },
  {
   "cell_type": "markdown",
   "metadata": {},
   "source": [
    "## Discuss results\n",
    "\n",
    "Expected solution is\n",
    "\n",
    "\\begin{align}\n",
    "R_x(t) = \\begin{bmatrix}cos(\\frac{t}{2}) & -i sin(\\frac{t}{2})\\\\-i sin(\\frac{t}{2}) & cos(\\frac{t}{2})\\end{bmatrix},\n",
    "R_y(t) = \\begin{bmatrix}cos(\\frac{t}{2}) & - sin(\\frac{t}{2})\\\\sin(\\frac{t}{2}) & cos(\\frac{t}{2})\\end{bmatrix},\n",
    "R_z(t) = \\begin{bmatrix}e^{-\\frac{it}{2}} & 0\\\\0 & e^{\\frac{it}{2}}\\end{bmatrix}\n",
    "\\end{align}\n",
    "\n",
    "which matches the result we symbolically derived using `SymPy`."
   ]
  }
 ],
 "metadata": {
  "kernelspec": {
   "display_name": "Python 3",
   "language": "python",
   "name": "python3"
  },
  "language_info": {
   "codemirror_mode": {
    "name": "ipython",
    "version": 3
   },
   "file_extension": ".py",
   "mimetype": "text/x-python",
   "name": "python",
   "nbconvert_exporter": "python",
   "pygments_lexer": "ipython3",
   "version": "3.6.7"
  },
  "latex_metadata": {
   "affiliation": "",
   "author": "Marek Narozniak",
   "title": "Unitary Rotations around Bloch Sphere"
  }
 },
 "nbformat": 4,
 "nbformat_minor": 2
}
